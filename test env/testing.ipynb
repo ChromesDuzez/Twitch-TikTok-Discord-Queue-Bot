{
 "cells": [
  {
   "cell_type": "code",
   "execution_count": 105,
   "id": "5a374e95-6e36-40fa-adc3-22cf74c965f7",
   "metadata": {},
   "outputs": [],
   "source": [
    "from datetime import datetime, timedelta\n",
    "import sqlite3\n",
    "import xlsxwriter\n",
    "import xlwings as xw\n",
    "import openpyxl\n",
    "from openpyxl import load_workbook, Workbook, Worksheet\n",
    "from openpyxl.utils import get_column_letter\n",
    "from openpyxl.styles import NamedStyle, Font, Border, Side, PatternFill, Alignment, Protection\n",
    "from openpyxl.worksheet.cell_range import CellRange\n",
    "import os"
   ]
  },
  {
   "cell_type": "code",
   "execution_count": 106,
   "id": "28b2fec4-c4a8-46f4-a19b-55a1eae9ff5b",
   "metadata": {},
   "outputs": [],
   "source": [
    "def round_to_quarter_hour(minutes):\n",
    "    return round(minutes / 15) * 15"
   ]
  },
  {
   "cell_type": "code",
   "execution_count": 107,
   "id": "795a99d8-f105-4a49-9f56-35b98f7da0ff",
   "metadata": {},
   "outputs": [],
   "source": [
    "def convert_minutes_to_hours(minutes):\n",
    "    return minutes / 60"
   ]
  },
  {
   "cell_type": "code",
   "execution_count": 108,
   "id": "f94b225c-fcbc-4f20-ba28-4ada27eb301d",
   "metadata": {},
   "outputs": [],
   "source": [
    "def is_saturday(date_str):\n",
    "    # Parse the date string into a datetime object\n",
    "    date_obj = datetime.strptime(date_str, '%Y-%m-%d')\n",
    "    # Check if the day of the week is Saturday (5)\n",
    "    return date_obj.weekday() == 5"
   ]
  },
  {
   "cell_type": "code",
   "execution_count": 109,
   "id": "80bef68a-8a52-4aec-97cb-60848eb73ef4",
   "metadata": {},
   "outputs": [],
   "source": [
    "def get_day_of_week(date_str):\n",
    "    # Parse the date string into a datetime object\n",
    "    date_obj = datetime.strptime(date_str, '%Y-%m-%d')\n",
    "    \n",
    "    # Get the day of the week as a full name (e.g., \"Monday\", \"Tuesday\")\n",
    "    day_of_week = date_obj.strftime('%A')\n",
    "    \n",
    "    return day_of_week"
   ]
  },
  {
   "cell_type": "code",
   "execution_count": 110,
   "id": "ddc728fe-d65f-4282-b9f1-768885670963",
   "metadata": {},
   "outputs": [],
   "source": [
    "def createReportWorkbook(new_wb, template_sheet_name):\n",
    "    # Load the existing workbook\n",
    "    template_path = 'Template Sheets - Copy.xlsx'\n",
    "    # Copy the template sheet to the new workbook\n",
    "    try:\n",
    "        excel_app = xw.App(visible=False)\n",
    "        wb = excel_app.books.open(template_path)\n",
    "        for sheet in wb.sheets:\n",
    "            if sheet.name == template_sheet_name:\n",
    "                sheet.api.Copy()\n",
    "                wb_new = xw.books.active\n",
    "                wb_new.save(new_wb)\n",
    "                wb_new.close()\n",
    "    finally:\n",
    "        excel_app.quit()"
   ]
  },
  {
   "cell_type": "code",
   "execution_count": 115,
   "id": "d1e21702-1ca9-4409-892f-5dd2f7091479",
   "metadata": {},
   "outputs": [],
   "source": [
    "new_wb = f'NewWorkbook_With_Copies.xlsx'\n",
    "employees = ['Dakota Sewell', 'Enrique Uribes Jr.', 'Jason Gonzolez', 'Jose Barraza', 'Juan Navarez', 'Shawn Lloyd', 'Tammy Deslaurres', 'Zach Wilson']\n",
    "\n",
    "# Load the existing workbook\n",
    "template_path = 'Template Sheets - Copy.xlsx'\n",
    "template_sheet_name = 'Timecard'\n",
    "\n",
    "# Copy the template sheet to the new workbook\n",
    "createReportWorkbook(new_wb, template_sheet_name)\n",
    "\n",
    "# Create all the worksheets\n",
    "wb = load_workbook(new_wb)\n",
    "ws = wb[\"Timecard\"]\n",
    "ws.title = employees[0]\n",
    "range1 = CellRange(\"A1:G21\")\n",
    "range2 = CellRange(\"H1:S56\")\n",
    "ws.print_area = f\"{range1} {range2}\"\n",
    "# Create several copies of the template sheet within the new workbook\n",
    "for e in employees[1::]:\n",
    "    # Copy the contentwb from the original new sheet to the new copy\n",
    "    source = wb.active\n",
    "    target = wb.copy_worksheet(source)\n",
    "    target.title = e\n",
    "    target.print_area = f\"{range1} {range2}\"\n",
    "wb.save(new_wb)"
   ]
  },
  {
   "cell_type": "code",
   "execution_count": null,
   "id": "608d7fe6-73e4-40be-9421-eae8712d5b30",
   "metadata": {},
   "outputs": [],
   "source": []
  }
 ],
 "metadata": {
  "kernelspec": {
   "display_name": "Python 3 (ipykernel)",
   "language": "python",
   "name": "python3"
  },
  "language_info": {
   "codemirror_mode": {
    "name": "ipython",
    "version": 3
   },
   "file_extension": ".py",
   "mimetype": "text/x-python",
   "name": "python",
   "nbconvert_exporter": "python",
   "pygments_lexer": "ipython3",
   "version": "3.12.0"
  }
 },
 "nbformat": 4,
 "nbformat_minor": 5
}
